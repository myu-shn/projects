{
 "cells": [
  {
   "cell_type": "markdown",
   "id": "ebcc6fd7-cb2e-4831-877a-ab8e723769be",
   "metadata": {
    "tags": []
   },
   "source": [
    "# Liveness\n",
    "\n",
    "Liveness can be used to verify whether a set of frames or video showing signs of liveness. These indicators consist of:\n",
    "- Blinking\n",
    "- Head turning left\n",
    "- Head turning right\n",
    "\n",
    "There are two ways to detect this liveness, with frames and real time detection."
   ]
  },
  {
   "cell_type": "code",
   "execution_count": 8,
   "id": "f5321c52-c875-4834-a7a5-75598a80cef5",
   "metadata": {},
   "outputs": [],
   "source": [
    "import pandas as pd\n",
    "import cv2\n",
    "import numpy as np\n",
    "from matplotlib import pyplot as plt"
   ]
  },
  {
   "cell_type": "markdown",
   "id": "444d4341-3e77-4691-9700-e4203f681c7d",
   "metadata": {
    "tags": []
   },
   "source": [
    "## 1. Detecting liveness through videos\n",
    "\n",
    "Steps:\n",
    "- Load video then extract frames\n",
    "- Detect face from frames\n",
    "- Evaluate frames to detect blinks or head turns (left/right)"
   ]
  },
  {
   "cell_type": "markdown",
   "id": "79d1d5bc-d729-4065-8b12-b7cf63a54e91",
   "metadata": {},
   "source": [
    "### Load and extract"
   ]
  },
  {
   "cell_type": "code",
   "execution_count": 3,
   "id": "c461a4fc-df5e-4e77-b76c-8ecc91cc0d8f",
   "metadata": {},
   "outputs": [],
   "source": [
    "def extract_frames(video_path):\n",
    "    video = cv2.VideoCapture(video_path)\n",
    "\n",
    "    frames = []\n",
    "    while(video.isOpened()):\n",
    "        ret, frame = video.read()\n",
    "        if ret == False:\n",
    "            break\n",
    "        frame = cv2.cvtColor(frame, cv2.COLOR_BGR2RGB)\n",
    "        frames.append(frame)\n",
    "    video.release()\n",
    "    \n",
    "    return np.array(frames)"
   ]
  },
  {
   "cell_type": "code",
   "execution_count": 6,
   "id": "c5c1c059-9fa6-4b8b-bd34-7366faec1c7e",
   "metadata": {},
   "outputs": [],
   "source": [
    "frames = extract_frames(\"videos/muti_real_vid.mp4\")"
   ]
  },
  {
   "cell_type": "markdown",
   "id": "b02df58a-8517-40fe-b475-06cd602e4b9f",
   "metadata": {},
   "source": [
    "Steps\n",
    "1. install dlib"
   ]
  },
  {
   "cell_type": "code",
   "execution_count": 1,
   "id": "a515a71a-7e24-4b1d-a697-2ac76aae8ace",
   "metadata": {},
   "outputs": [
    {
     "ename": "ModuleNotFoundError",
     "evalue": "No module named 'dlib'",
     "output_type": "error",
     "traceback": [
      "\u001b[1;31m---------------------------------------------------------------------------\u001b[0m",
      "\u001b[1;31mModuleNotFoundError\u001b[0m                       Traceback (most recent call last)",
      "\u001b[1;32m~\\AppData\\Local\\Temp/ipykernel_6152/3149249053.py\u001b[0m in \u001b[0;36m<module>\u001b[1;34m\u001b[0m\n\u001b[1;32m----> 1\u001b[1;33m \u001b[1;32mimport\u001b[0m \u001b[0mdlib\u001b[0m\u001b[1;33m\u001b[0m\u001b[1;33m\u001b[0m\u001b[0m\n\u001b[0m",
      "\u001b[1;31mModuleNotFoundError\u001b[0m: No module named 'dlib'"
     ]
    }
   ],
   "source": [
    "import dlib"
   ]
  },
  {
   "cell_type": "code",
   "execution_count": null,
   "id": "142e5817-f7d3-43c8-bd8c-22c84e9231eb",
   "metadata": {},
   "outputs": [],
   "source": [
    "detector_param = dlib.get_frontal_face_detector()\n",
    "predictor_param = dlib.shape_predictor(\"trained_models/shape_predictor_68_face_landmarks.dat\")"
   ]
  },
  {
   "cell_type": "code",
   "execution_count": null,
   "id": "8f81fafb-f616-485d-b636-fc19b206fe0d",
   "metadata": {},
   "outputs": [],
   "source": []
  },
  {
   "cell_type": "code",
   "execution_count": null,
   "id": "15cfc366-2b82-45ed-a4dd-2cdc8d651549",
   "metadata": {},
   "outputs": [],
   "source": []
  },
  {
   "cell_type": "code",
   "execution_count": null,
   "id": "7ed9da3b-c111-4c2d-8fb4-5d05117e7f62",
   "metadata": {},
   "outputs": [],
   "source": []
  },
  {
   "cell_type": "code",
   "execution_count": null,
   "id": "7c5e8b37-e44e-472f-9bf3-446dd30f103a",
   "metadata": {},
   "outputs": [],
   "source": []
  },
  {
   "cell_type": "code",
   "execution_count": null,
   "id": "182734d4-3f76-413d-b1d9-823f1dab5c56",
   "metadata": {},
   "outputs": [],
   "source": []
  },
  {
   "cell_type": "code",
   "execution_count": null,
   "id": "63adf661-5d9a-49b5-8358-1c61e6ff8d18",
   "metadata": {},
   "outputs": [],
   "source": []
  }
 ],
 "metadata": {
  "kernelspec": {
   "display_name": "Python 3 (ipykernel)",
   "language": "python",
   "name": "python3"
  },
  "language_info": {
   "codemirror_mode": {
    "name": "ipython",
    "version": 3
   },
   "file_extension": ".py",
   "mimetype": "text/x-python",
   "name": "python",
   "nbconvert_exporter": "python",
   "pygments_lexer": "ipython3",
   "version": "3.8.2"
  }
 },
 "nbformat": 4,
 "nbformat_minor": 5
}
