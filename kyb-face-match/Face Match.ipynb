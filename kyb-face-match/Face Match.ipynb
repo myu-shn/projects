{
 "cells": [
  {
   "cell_type": "markdown",
   "id": "ef0acb71-637b-48f6-9908-b75eb0a4568e",
   "metadata": {},
   "source": [
    "# Face match\n",
    "\n",
    "Comparing two faces and determine whether they're the same people (face matched)\n",
    "\n",
    "The model is based on https://github.com/davisking/dlib-models model, it used 3 pretrained models:\n",
    "- shape_predictor_68_face_landmarks\n",
    "- shape_predictor_5_face_landmarks\n",
    "- dlib_face_recognition_resnet_model_v1"
   ]
  },
  {
   "cell_type": "markdown",
   "id": "e32db303-5f38-4cef-9a29-d9a1d06a62af",
   "metadata": {
    "tags": []
   },
   "source": [
    "## Process Overview\n",
    "\n",
    "- Detecting and cropping face\n",
    "- Generating face landmark shape\n",
    "- Generating embeding and distance measure"
   ]
  },
  {
   "cell_type": "code",
   "execution_count": null,
   "id": "b8ab1005-797c-4f68-824a-d8e1904a53ac",
   "metadata": {},
   "outputs": [],
   "source": []
  },
  {
   "cell_type": "code",
   "execution_count": null,
   "id": "73b2f8f3-4637-4823-b3de-04efe08cc2c0",
   "metadata": {},
   "outputs": [],
   "source": []
  },
  {
   "cell_type": "code",
   "execution_count": null,
   "id": "fa7c66a2-58a7-4c52-8641-25febfaba503",
   "metadata": {},
   "outputs": [],
   "source": []
  }
 ],
 "metadata": {
  "kernelspec": {
   "display_name": "Python 3 (ipykernel)",
   "language": "python",
   "name": "python3"
  },
  "language_info": {
   "codemirror_mode": {
    "name": "ipython",
    "version": 3
   },
   "file_extension": ".py",
   "mimetype": "text/x-python",
   "name": "python",
   "nbconvert_exporter": "python",
   "pygments_lexer": "ipython3",
   "version": "3.8.2"
  }
 },
 "nbformat": 4,
 "nbformat_minor": 5
}
